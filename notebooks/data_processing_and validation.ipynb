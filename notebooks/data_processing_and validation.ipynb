{
 "cells": [
  {
   "cell_type": "code",
   "execution_count": 20,
   "id": "77b49405",
   "metadata": {},
   "outputs": [],
   "source": [
    "import pandas as pd\n",
    "import os"
   ]
  },
  {
   "cell_type": "markdown",
   "id": "b9a40078",
   "metadata": {},
   "source": [
    "## Data Loading"
   ]
  },
  {
   "cell_type": "code",
   "execution_count": 2,
   "id": "9cebe9a8",
   "metadata": {},
   "outputs": [],
   "source": [
    "# Load the CSV file into a pandas DataFrame\n",
    "file_path = \"../datasets/imdb_data_ints.csv\"  # Replace with your file's path if it's not in the current directory\n",
    "imdb_data_df = pd.read_csv(file_path)"
   ]
  },
  {
   "cell_type": "code",
   "execution_count": 3,
   "id": "8a505071",
   "metadata": {},
   "outputs": [
    {
     "data": {
      "text/html": [
       "<div>\n",
       "<style scoped>\n",
       "    .dataframe tbody tr th:only-of-type {\n",
       "        vertical-align: middle;\n",
       "    }\n",
       "\n",
       "    .dataframe tbody tr th {\n",
       "        vertical-align: top;\n",
       "    }\n",
       "\n",
       "    .dataframe thead th {\n",
       "        text-align: right;\n",
       "    }\n",
       "</style>\n",
       "<table border=\"1\" class=\"dataframe\">\n",
       "  <thead>\n",
       "    <tr style=\"text-align: right;\">\n",
       "      <th></th>\n",
       "      <th>review</th>\n",
       "      <th>sentiment</th>\n",
       "    </tr>\n",
       "  </thead>\n",
       "  <tbody>\n",
       "    <tr>\n",
       "      <th>0</th>\n",
       "      <td>One of the other reviewers has mentioned that ...</td>\n",
       "      <td>1</td>\n",
       "    </tr>\n",
       "    <tr>\n",
       "      <th>1</th>\n",
       "      <td>A wonderful little production. &lt;br /&gt;&lt;br /&gt;The...</td>\n",
       "      <td>1</td>\n",
       "    </tr>\n",
       "    <tr>\n",
       "      <th>2</th>\n",
       "      <td>I thought this was a wonderful way to spend ti...</td>\n",
       "      <td>1</td>\n",
       "    </tr>\n",
       "    <tr>\n",
       "      <th>3</th>\n",
       "      <td>Basically there's a family where a little boy ...</td>\n",
       "      <td>0</td>\n",
       "    </tr>\n",
       "    <tr>\n",
       "      <th>4</th>\n",
       "      <td>Petter Mattei's \"Love in the Time of Money\" is...</td>\n",
       "      <td>1</td>\n",
       "    </tr>\n",
       "    <tr>\n",
       "      <th>...</th>\n",
       "      <td>...</td>\n",
       "      <td>...</td>\n",
       "    </tr>\n",
       "    <tr>\n",
       "      <th>49577</th>\n",
       "      <td>I thought this movie did a down right good job...</td>\n",
       "      <td>1</td>\n",
       "    </tr>\n",
       "    <tr>\n",
       "      <th>49578</th>\n",
       "      <td>Bad plot, bad dialogue, bad acting, idiotic di...</td>\n",
       "      <td>0</td>\n",
       "    </tr>\n",
       "    <tr>\n",
       "      <th>49579</th>\n",
       "      <td>I am a Catholic taught in parochial elementary...</td>\n",
       "      <td>0</td>\n",
       "    </tr>\n",
       "    <tr>\n",
       "      <th>49580</th>\n",
       "      <td>I'm going to have to disagree with the previou...</td>\n",
       "      <td>0</td>\n",
       "    </tr>\n",
       "    <tr>\n",
       "      <th>49581</th>\n",
       "      <td>No one expects the Star Trek movies to be high...</td>\n",
       "      <td>0</td>\n",
       "    </tr>\n",
       "  </tbody>\n",
       "</table>\n",
       "<p>49582 rows × 2 columns</p>\n",
       "</div>"
      ],
      "text/plain": [
       "                                                  review  sentiment\n",
       "0      One of the other reviewers has mentioned that ...          1\n",
       "1      A wonderful little production. <br /><br />The...          1\n",
       "2      I thought this was a wonderful way to spend ti...          1\n",
       "3      Basically there's a family where a little boy ...          0\n",
       "4      Petter Mattei's \"Love in the Time of Money\" is...          1\n",
       "...                                                  ...        ...\n",
       "49577  I thought this movie did a down right good job...          1\n",
       "49578  Bad plot, bad dialogue, bad acting, idiotic di...          0\n",
       "49579  I am a Catholic taught in parochial elementary...          0\n",
       "49580  I'm going to have to disagree with the previou...          0\n",
       "49581  No one expects the Star Trek movies to be high...          0\n",
       "\n",
       "[49582 rows x 2 columns]"
      ]
     },
     "execution_count": 3,
     "metadata": {},
     "output_type": "execute_result"
    }
   ],
   "source": [
    "imdb_data_df"
   ]
  },
  {
   "cell_type": "markdown",
   "id": "9d4c5f01",
   "metadata": {},
   "source": [
    "## Data Validation"
   ]
  },
  {
   "cell_type": "code",
   "execution_count": 4,
   "id": "43576f27",
   "metadata": {},
   "outputs": [
    {
     "name": "stdout",
     "output_type": "stream",
     "text": [
      "\n",
      "Description of the DataFrame:\n",
      "                                                   review     sentiment\n",
      "count                                               49582  49582.000000\n",
      "unique                                              49582           NaN\n",
      "top     No one expects the Star Trek movies to be high...           NaN\n",
      "freq                                                    1           NaN\n",
      "mean                                                  NaN      0.501876\n",
      "std                                                   NaN      0.500002\n",
      "min                                                   NaN      0.000000\n",
      "25%                                                   NaN      0.000000\n",
      "50%                                                   NaN      1.000000\n",
      "75%                                                   NaN      1.000000\n",
      "max                                                   NaN      1.000000\n"
     ]
    }
   ],
   "source": [
    "# Get a description of the DataFrame\n",
    "description = imdb_data_df.describe(include='all')  # Include all types of data\n",
    "print(\"\\nDescription of the DataFrame:\")\n",
    "print(description)"
   ]
  },
  {
   "cell_type": "code",
   "execution_count": 5,
   "id": "c2d61c1d",
   "metadata": {},
   "outputs": [
    {
     "name": "stdout",
     "output_type": "stream",
     "text": [
      "Number of unique elements per column:\n",
      "review       49582\n",
      "sentiment        2\n",
      "dtype: int64\n"
     ]
    }
   ],
   "source": [
    "# Check the number of unique elements per column\n",
    "unique_elements_per_column = imdb_data_df.nunique()\n",
    "print(\"Number of unique elements per column:\")\n",
    "print(unique_elements_per_column)"
   ]
  },
  {
   "cell_type": "code",
   "execution_count": 6,
   "id": "f40b3396",
   "metadata": {},
   "outputs": [
    {
     "name": "stdout",
     "output_type": "stream",
     "text": [
      "Null values per column:\n",
      "review       0\n",
      "sentiment    0\n",
      "dtype: int64\n"
     ]
    }
   ],
   "source": [
    "# Check for null (NaN) values\n",
    "null_values = imdb_data_df.isnull().sum()\n",
    "print(\"Null values per column:\")\n",
    "print(null_values)"
   ]
  },
  {
   "cell_type": "code",
   "execution_count": 7,
   "id": "55c1c529",
   "metadata": {},
   "outputs": [
    {
     "name": "stdout",
     "output_type": "stream",
     "text": [
      "\n",
      "Number of duplicate rows:\n",
      "0\n"
     ]
    }
   ],
   "source": [
    "# Check for duplicate rows\n",
    "duplicate_rows = imdb_data_df.duplicated().sum()\n",
    "print(\"\\nNumber of duplicate rows:\")\n",
    "print(duplicate_rows)"
   ]
  },
  {
   "cell_type": "code",
   "execution_count": 8,
   "id": "13d1150a",
   "metadata": {},
   "outputs": [
    {
     "name": "stdout",
     "output_type": "stream",
     "text": [
      "\n",
      "Data types of each column:\n",
      "review       object\n",
      "sentiment     int64\n",
      "dtype: object\n"
     ]
    }
   ],
   "source": [
    "# Check data types of all columns\n",
    "print(\"\\nData types of each column:\")\n",
    "print(imdb_data_df.dtypes)"
   ]
  },
  {
   "cell_type": "code",
   "execution_count": 9,
   "id": "869d008f",
   "metadata": {},
   "outputs": [
    {
     "name": "stdout",
     "output_type": "stream",
     "text": [
      "\n",
      "Unique values in the 'sentiment' column:\n",
      "[1 0]\n",
      "sentiments are binary (0 or 1).\n"
     ]
    }
   ],
   "source": [
    "# Verify if all labels are binary (0 or 1) for the 'label' column\n",
    "# Replace 'label' with the actual name of your column containing the labels\n",
    "if 'sentiment' in imdb_data_df.columns:\n",
    "    unique_labels = imdb_data_df['sentiment'].unique()\n",
    "    print(\"\\nUnique values in the 'sentiment' column:\")\n",
    "    print(unique_labels)\n",
    "    if set(unique_labels).issubset({0, 1}):\n",
    "        print(\"sentiments are binary (0 or 1).\")\n",
    "    else:\n",
    "        print(\"sentiments are not binary! Unique values:\", unique_labels)"
   ]
  },
  {
   "cell_type": "code",
   "execution_count": 10,
   "id": "245d1462",
   "metadata": {},
   "outputs": [
    {
     "name": "stdout",
     "output_type": "stream",
     "text": [
      "\n",
      "Basic info about the DataFrame:\n",
      "<class 'pandas.core.frame.DataFrame'>\n",
      "RangeIndex: 49582 entries, 0 to 49581\n",
      "Data columns (total 2 columns):\n",
      " #   Column     Non-Null Count  Dtype \n",
      "---  ------     --------------  ----- \n",
      " 0   review     49582 non-null  object\n",
      " 1   sentiment  49582 non-null  int64 \n",
      "dtypes: int64(1), object(1)\n",
      "memory usage: 774.8+ KB\n"
     ]
    }
   ],
   "source": [
    "# Summary of basic information to check column names, non-null count, etc.\n",
    "print(\"\\nBasic info about the DataFrame:\")\n",
    "imdb_data_df.info()"
   ]
  },
  {
   "cell_type": "code",
   "execution_count": 11,
   "id": "acf29ad3",
   "metadata": {},
   "outputs": [
    {
     "name": "stdout",
     "output_type": "stream",
     "text": [
      "\n",
      "All rows are unique.\n"
     ]
    }
   ],
   "source": [
    "# Final check: Ensure all rows are unique\n",
    "if len(imdb_data_df) == len(imdb_data_df.drop_duplicates()):\n",
    "    print(\"\\nAll rows are unique.\")\n",
    "else:\n",
    "    print(\"\\nThere are duplicate rows in the dataset.\")"
   ]
  },
  {
   "cell_type": "code",
   "execution_count": 12,
   "id": "b2ddc23c",
   "metadata": {},
   "outputs": [
    {
     "name": "stdout",
     "output_type": "stream",
     "text": [
      "All elements in the 'review' column are unique.\n"
     ]
    }
   ],
   "source": [
    "# Check if all elements in the first column (assumed to be reviews) are unique\n",
    "review_column_name = imdb_data_df.columns[0]  # Get the name of the first column\n",
    "unique_reviews = imdb_data_df[review_column_name].is_unique\n",
    "\n",
    "if unique_reviews:\n",
    "    print(f\"All elements in the '{review_column_name}' column are unique.\")\n",
    "else:\n",
    "    print(f\"There are duplicate reviews in the '{review_column_name}' column.\")\n",
    "    # Display duplicate reviews\n",
    "    duplicate_reviews = imdb_data_df[imdb_data_df.duplicated(subset=[review_column_name])]\n",
    "    print(\"\\nDuplicate reviews:\")\n",
    "    print(duplicate_reviews)"
   ]
  },
  {
   "cell_type": "markdown",
   "id": "e8429c5f",
   "metadata": {},
   "source": [
    "## Data Engineering"
   ]
  },
  {
   "cell_type": "markdown",
   "id": "837ea118",
   "metadata": {},
   "source": [
    "#### Generating IDs for each unique review"
   ]
  },
  {
   "cell_type": "code",
   "execution_count": 13,
   "id": "184e92ff",
   "metadata": {},
   "outputs": [],
   "source": [
    "# Generate unique IDs based on the movie review column\n",
    "review_column_name = imdb_data_df.columns[0]  # Assuming the first column is movie reviews\n",
    "imdb_data_df['unique_id'] = imdb_data_df[review_column_name].apply(lambda x: hash(x))"
   ]
  },
  {
   "cell_type": "code",
   "execution_count": 14,
   "id": "dc55bbbf",
   "metadata": {},
   "outputs": [],
   "source": [
    "# Move the 'unique_id' column to the beginning of the DataFrame\n",
    "column_to_move = 'unique_id'\n",
    "columns = [column_to_move] + [col for col in imdb_data_df if col != column_to_move]\n",
    "imdb_data_df = imdb_data_df[columns]"
   ]
  },
  {
   "cell_type": "code",
   "execution_count": 15,
   "id": "9b485a18",
   "metadata": {},
   "outputs": [
    {
     "name": "stdout",
     "output_type": "stream",
     "text": [
      "DataFrame with unique IDs based on reviews:\n"
     ]
    },
    {
     "data": {
      "text/html": [
       "<div>\n",
       "<style scoped>\n",
       "    .dataframe tbody tr th:only-of-type {\n",
       "        vertical-align: middle;\n",
       "    }\n",
       "\n",
       "    .dataframe tbody tr th {\n",
       "        vertical-align: top;\n",
       "    }\n",
       "\n",
       "    .dataframe thead th {\n",
       "        text-align: right;\n",
       "    }\n",
       "</style>\n",
       "<table border=\"1\" class=\"dataframe\">\n",
       "  <thead>\n",
       "    <tr style=\"text-align: right;\">\n",
       "      <th></th>\n",
       "      <th>unique_id</th>\n",
       "      <th>review</th>\n",
       "      <th>sentiment</th>\n",
       "    </tr>\n",
       "  </thead>\n",
       "  <tbody>\n",
       "    <tr>\n",
       "      <th>0</th>\n",
       "      <td>-1776257223830691734</td>\n",
       "      <td>One of the other reviewers has mentioned that ...</td>\n",
       "      <td>1</td>\n",
       "    </tr>\n",
       "    <tr>\n",
       "      <th>1</th>\n",
       "      <td>-2308613510661184590</td>\n",
       "      <td>A wonderful little production. &lt;br /&gt;&lt;br /&gt;The...</td>\n",
       "      <td>1</td>\n",
       "    </tr>\n",
       "    <tr>\n",
       "      <th>2</th>\n",
       "      <td>8051669330003540499</td>\n",
       "      <td>I thought this was a wonderful way to spend ti...</td>\n",
       "      <td>1</td>\n",
       "    </tr>\n",
       "    <tr>\n",
       "      <th>3</th>\n",
       "      <td>2662031559311252467</td>\n",
       "      <td>Basically there's a family where a little boy ...</td>\n",
       "      <td>0</td>\n",
       "    </tr>\n",
       "    <tr>\n",
       "      <th>4</th>\n",
       "      <td>6305374558105916340</td>\n",
       "      <td>Petter Mattei's \"Love in the Time of Money\" is...</td>\n",
       "      <td>1</td>\n",
       "    </tr>\n",
       "  </tbody>\n",
       "</table>\n",
       "</div>"
      ],
      "text/plain": [
       "             unique_id                                             review  \\\n",
       "0 -1776257223830691734  One of the other reviewers has mentioned that ...   \n",
       "1 -2308613510661184590  A wonderful little production. <br /><br />The...   \n",
       "2  8051669330003540499  I thought this was a wonderful way to spend ti...   \n",
       "3  2662031559311252467  Basically there's a family where a little boy ...   \n",
       "4  6305374558105916340  Petter Mattei's \"Love in the Time of Money\" is...   \n",
       "\n",
       "   sentiment  \n",
       "0          1  \n",
       "1          1  \n",
       "2          1  \n",
       "3          0  \n",
       "4          1  "
      ]
     },
     "execution_count": 15,
     "metadata": {},
     "output_type": "execute_result"
    }
   ],
   "source": [
    "# Display a sample of the DataFrame with the unique IDs\n",
    "print(\"DataFrame with unique IDs based on reviews:\")\n",
    "imdb_data_df.head()"
   ]
  },
  {
   "cell_type": "code",
   "execution_count": 16,
   "id": "fddea6ea",
   "metadata": {},
   "outputs": [
    {
     "name": "stdout",
     "output_type": "stream",
     "text": [
      "Number of unique elements per column:\n",
      "unique_id    49582\n",
      "review       49582\n",
      "sentiment        2\n",
      "dtype: int64\n"
     ]
    }
   ],
   "source": [
    "# Check the number of unique elements per column\n",
    "unique_elements_per_column = imdb_data_df.nunique()\n",
    "print(\"Number of unique elements per column:\")\n",
    "print(unique_elements_per_column)"
   ]
  },
  {
   "cell_type": "code",
   "execution_count": 17,
   "id": "64a6a3be",
   "metadata": {},
   "outputs": [
    {
     "name": "stdout",
     "output_type": "stream",
     "text": [
      "Number of each binary label:\n",
      "sentiment\n",
      "1    24884\n",
      "0    24698\n",
      "Name: count, dtype: int64\n"
     ]
    }
   ],
   "source": [
    "# Replace 'sentiment' with the actual name of your label column\n",
    "label_column_name = 'sentiment'\n",
    "\n",
    "# Count the number of occurrences for each unique value in the label column\n",
    "label_counts = imdb_data_df[label_column_name].value_counts()\n",
    "\n",
    "print(\"Number of each binary label:\")\n",
    "print(label_counts)"
   ]
  },
  {
   "cell_type": "code",
   "execution_count": 21,
   "id": "c8b83534",
   "metadata": {},
   "outputs": [
    {
     "name": "stdout",
     "output_type": "stream",
     "text": [
      "DataFrame saved as a CSV file at: ../datasets/binary_imdb_data_with_ids.csv\n"
     ]
    }
   ],
   "source": [
    "folder_path = \"../datasets\"  # Replace with the actual path to your folder\n",
    "file_name = \"binary_imdb_data_with_ids.csv\"\n",
    "\n",
    "# Ensure the folder exists\n",
    "os.makedirs(folder_path, exist_ok=True)\n",
    "\n",
    "#Save the DataFrame as a CSV file\n",
    "file_path = f\"{folder_path}/{file_name}\"\n",
    "imdb_data_df.to_csv(file_path, index=False)\n",
    "\n",
    "print(f\"DataFrame saved as a CSV file at: {file_path}\")"
   ]
  }
 ],
 "metadata": {
  "kernelspec": {
   "display_name": "Python 3 (ipykernel)",
   "language": "python",
   "name": "python3"
  },
  "language_info": {
   "codemirror_mode": {
    "name": "ipython",
    "version": 3
   },
   "file_extension": ".py",
   "mimetype": "text/x-python",
   "name": "python",
   "nbconvert_exporter": "python",
   "pygments_lexer": "ipython3",
   "version": "3.9.7"
  }
 },
 "nbformat": 4,
 "nbformat_minor": 5
}
